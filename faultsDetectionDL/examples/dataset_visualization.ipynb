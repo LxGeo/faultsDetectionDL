{
 "cells": [
  {
   "cell_type": "code",
   "execution_count": 1,
   "metadata": {},
   "outputs": [],
   "source": [
    "from faultsDetectionDL.utils.config_loader import load_config, load_datasets_from_cfg\n",
    "from matplotlib import pyplot as plt\n",
    "import os\n",
    "from ipywidgets import interact\n",
    "import ipywidgets as widgets\n",
    "import torch\n",
    "from scipy.ndimage import gaussian_filter\n",
    "import numpy as np\n",
    "from functools import partial"
   ]
  },
  {
   "cell_type": "code",
   "execution_count": 2,
   "metadata": {},
   "outputs": [],
   "source": [
    "os.chdir(\"../../\")"
   ]
  },
  {
   "cell_type": "code",
   "execution_count": 13,
   "metadata": {},
   "outputs": [],
   "source": [
    "train_data_dir = \"models/configs/data_config/sample1.yaml\"\n",
    "valid_data_dir = \"models/configs/data_config/sample2.yaml\"\n",
    "train_data_cfg = load_config(train_data_dir)\n",
    "valid_data_cfg = load_config(valid_data_dir)\n",
    "\n",
    "from LxGeoPyLibs.vision.image_transformation import Trans_Identity, Trans_Rot90, Trans_Rot180, Trans_Rot270, Trans_Flipud, Trans_fliplr, Trans_gaussian_noise, Trans_gamma_adjust, Trans_equal_hist\n",
    "augmentation_transforms = None#[Trans_Identity(), Trans_Rot90(), Trans_Rot180(), Trans_Rot270(), Trans_fliplr(), Trans_gaussian_noise(), Trans_gamma_adjust(), Trans_equal_hist()]\n",
    "    \n",
    "train_dataset= load_datasets_from_cfg(train_data_cfg, augmentation_transforms=augmentation_transforms)\n",
    "valid_dataset= load_datasets_from_cfg(valid_data_cfg, augmentation_transforms=augmentation_transforms)\n",
    "train_dataloader = torch.utils.data.DataLoader(\n",
    "        train_dataset, batch_size=1, num_workers=0, shuffle=False, drop_last=True)\n",
    "\n",
    "valid_dataloader = torch.utils.data.DataLoader(\n",
    "        valid_dataset, batch_size=1, num_workers=0, shuffle=False, drop_last=True)\n",
    "    "
   ]
  },
  {
   "cell_type": "code",
   "execution_count": 15,
   "metadata": {},
   "outputs": [
    {
     "data": {
      "text/plain": [
       "tensor([ 1.0478, 65.1193, 33.0549])"
      ]
     },
     "execution_count": 15,
     "metadata": {},
     "output_type": "execute_result"
    }
   ],
   "source": [
    "\n",
    "cnt = 256*256\n",
    "\n",
    "def perc(idx):\n",
    "    vals = train_dataset[idx][1].sum([1,2]) / cnt\n",
    "    return vals\n",
    "\n",
    "\n",
    "total_vals = torch.zeros_like(perc(0))\n",
    "for idx in range(len(train_dataset)):\n",
    "    total_vals += perc(idx)\n",
    "\n",
    "sum(total_vals) / total_vals"
   ]
  },
  {
   "cell_type": "code",
   "execution_count": 16,
   "metadata": {},
   "outputs": [
    {
     "data": {
      "text/plain": [
       "tensor([0.0106, 0.6563, 0.3331])"
      ]
     },
     "execution_count": 16,
     "metadata": {},
     "output_type": "execute_result"
    }
   ],
   "source": [
    "sum(total_vals) / total_vals / sum(sum(total_vals) / total_vals)"
   ]
  },
  {
   "cell_type": "code",
   "execution_count": 5,
   "metadata": {},
   "outputs": [],
   "source": [
    "def func(idx):\n",
    "    ax = plt.imshow(valid_dataset[idx][0][:3].permute(1,2,0)/255)\n",
    "    plt.show()\n",
    "    "
   ]
  },
  {
   "cell_type": "code",
   "execution_count": 62,
   "metadata": {},
   "outputs": [],
   "source": [
    "a=list(valid_dataloader)\n",
    "\n",
    "x,y = [ torch.cat([a[i][j] for i in range(len(a))], 0) for j in (0,1) ]"
   ]
  },
  {
   "cell_type": "code",
   "execution_count": 6,
   "metadata": {},
   "outputs": [
    {
     "name": "stdout",
     "output_type": "stream",
     "text": [
      "[1171, 2106, 580]\n"
     ]
    }
   ],
   "source": [
    "chosen_dataset = train_dataset\n",
    "print(chosen_dataset.datasets_lengths)\n",
    "def func(idx):\n",
    "    fig, axs = plt.subplots(1, 2, figsize=(15, 15))\n",
    "    plt.subplot(1, 2, 1)\n",
    "    axs[0].imshow(chosen_dataset[idx][0][:3].permute(1,2,0)/255)\n",
    "    plt.subplot(1, 2, 2)\n",
    "    axs[1].imshow(chosen_dataset[idx][0][:3].permute(1,2,0)/255)\n",
    "    axs[1].imshow(chosen_dataset[idx][1][:3].permute(1,2,0), alpha=0.1)\n",
    "    plt.show()"
   ]
  },
  {
   "cell_type": "code",
   "execution_count": 7,
   "metadata": {},
   "outputs": [
    {
     "data": {
      "application/vnd.jupyter.widget-view+json": {
       "model_id": "7d76b2080f2a4e85ac695844bcff287e",
       "version_major": 2,
       "version_minor": 0
      },
      "text/plain": [
       "interactive(children=(IntSlider(value=0, description='idx', max=3857), Output()), _dom_classes=('widget-intera…"
      ]
     },
     "metadata": {},
     "output_type": "display_data"
    },
    {
     "data": {
      "text/plain": [
       "<function __main__.func(idx)>"
      ]
     },
     "execution_count": 7,
     "metadata": {},
     "output_type": "execute_result"
    }
   ],
   "source": [
    "%matplotlib inline\n",
    "interact(func, idx=widgets.IntSlider(min=0, max=len(chosen_dataset), step=1, value=0))"
   ]
  },
  {
   "cell_type": "code",
   "execution_count": 7,
   "metadata": {},
   "outputs": [
    {
     "data": {
      "text/plain": [
       "<matplotlib.image.AxesImage at 0x7fc13ddb9820>"
      ]
     },
     "execution_count": 7,
     "metadata": {},
     "output_type": "execute_result"
    }
   ],
   "source": [
    "\n",
    "%matplotlib qt5\n",
    "a=np.transpose(valid_dataset[0][1],(1,2,0))\n",
    "plt.imshow(gaussian_filter(a, sigma=0.6))\n"
   ]
  },
  {
   "cell_type": "code",
   "execution_count": 49,
   "metadata": {},
   "outputs": [],
   "source": [
    "a=np.transpose(valid_dataset[0][1],(1,2,0))\n",
    "def blur_fn(sigma, truncate):\n",
    "    g=gaussian_filter(a, sigma=sigma, truncate=truncate, mode=\"constant\")\n",
    "    ax = plt.imshow(g/g.sum(axis=2)[:,:,None])\n",
    "    plt.show()"
   ]
  },
  {
   "cell_type": "code",
   "execution_count": 50,
   "metadata": {},
   "outputs": [
    {
     "data": {
      "application/vnd.jupyter.widget-view+json": {
       "model_id": "5bbadb4c5b6147029a7d62d2f5032197",
       "version_major": 2,
       "version_minor": 0
      },
      "text/plain": [
       "interactive(children=(FloatSlider(value=0.0, description='sigma', max=2.0, step=0.01), IntSlider(value=0, desc…"
      ]
     },
     "metadata": {},
     "output_type": "display_data"
    },
    {
     "data": {
      "text/plain": [
       "<function __main__.blur_fn(sigma, truncate)>"
      ]
     },
     "execution_count": 50,
     "metadata": {},
     "output_type": "execute_result"
    }
   ],
   "source": [
    "%matplotlib qt5\n",
    "interact(blur_fn, sigma=widgets.FloatSlider(min=0, max=2, step=0.01, value=0), truncate=widgets.IntSlider(min=0, max=50, step=1, value=0))"
   ]
  }
 ],
 "metadata": {
  "kernelspec": {
   "display_name": "Python 3.9.7 ('env-pt-gpu')",
   "language": "python",
   "name": "python3"
  },
  "language_info": {
   "codemirror_mode": {
    "name": "ipython",
    "version": 3
   },
   "file_extension": ".py",
   "mimetype": "text/x-python",
   "name": "python",
   "nbconvert_exporter": "python",
   "pygments_lexer": "ipython3",
   "version": "3.9.7"
  },
  "orig_nbformat": 4,
  "vscode": {
   "interpreter": {
    "hash": "07f9c541ddab9ddc86f19bc285c43c27750bf789019e9421db85e4c00083ac69"
   }
  }
 },
 "nbformat": 4,
 "nbformat_minor": 2
}
